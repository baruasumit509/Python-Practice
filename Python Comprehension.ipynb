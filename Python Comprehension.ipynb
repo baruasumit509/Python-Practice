{
 "cells": [
  {
   "cell_type": "code",
   "execution_count": null,
   "id": "55a57303",
   "metadata": {},
   "outputs": [],
   "source": [
    "#Dict Comprehension"
   ]
  },
  {
   "cell_type": "code",
   "execution_count": 1,
   "id": "b026ed59",
   "metadata": {},
   "outputs": [
    {
     "name": "stdout",
     "output_type": "stream",
     "text": [
      "<zip object at 0x000001C834795E80>\n"
     ]
    }
   ],
   "source": [
    "names=['Bruce','Clark','Peter','Logan','Wade']\n",
    "heros=['Batman','Superman','Spiderman','Wolverine','Deadpool']\n",
    "print(zip(names,heros))"
   ]
  },
  {
   "cell_type": "code",
   "execution_count": 4,
   "id": "6492a86c",
   "metadata": {},
   "outputs": [
    {
     "name": "stdout",
     "output_type": "stream",
     "text": [
      "{'Bruce': 'Batman', 'Clark': 'Superman', 'Logan': 'Wolverine', 'Wade': 'Deadpool'}\n"
     ]
    }
   ],
   "source": [
    "my_dict={}\n",
    "for name,hero in zip(names,heros):\n",
    "    if name!='Peter':\n",
    "        my_dict[name]=hero\n",
    "    \n",
    "print(my_dict)\n"
   ]
  },
  {
   "cell_type": "code",
   "execution_count": 6,
   "id": "c5eca939",
   "metadata": {},
   "outputs": [
    {
     "name": "stdout",
     "output_type": "stream",
     "text": [
      "{'Bruce': 'Batman', 'Clark': 'Superman', 'Logan': 'Wolverine', 'Wade': 'Deadpool'}\n"
     ]
    }
   ],
   "source": [
    "my_dict={name:hero for name,hero in zip(names,heros) if name!='Peter'}\n",
    "print(my_dict)"
   ]
  },
  {
   "cell_type": "code",
   "execution_count": 7,
   "id": "51251260",
   "metadata": {},
   "outputs": [],
   "source": [
    "# Set Dictionary"
   ]
  },
  {
   "cell_type": "code",
   "execution_count": 11,
   "id": "b9fc05f6",
   "metadata": {},
   "outputs": [
    {
     "name": "stdout",
     "output_type": "stream",
     "text": [
      "{1, 2, 3, 4, 5, 6, 7, 8, 9}\n"
     ]
    }
   ],
   "source": [
    "nums=[1,1,2,1,3,4,3,4,5,5,6,7,8,7,9,9]\n",
    "my_set=set()\n",
    "for n in nums:\n",
    "    my_set.add(n)\n",
    "print(my_set)"
   ]
  },
  {
   "cell_type": "code",
   "execution_count": 12,
   "id": "34c80663",
   "metadata": {},
   "outputs": [
    {
     "name": "stdout",
     "output_type": "stream",
     "text": [
      "{1, 2, 3, 4, 5, 6, 7, 8, 9}\n"
     ]
    }
   ],
   "source": [
    "my_set={n for n in nums}\n",
    "print(my_set)"
   ]
  },
  {
   "cell_type": "code",
   "execution_count": 13,
   "id": "d8a4ffb7",
   "metadata": {},
   "outputs": [],
   "source": [
    "#List Comprehension"
   ]
  },
  {
   "cell_type": "code",
   "execution_count": 16,
   "id": "02486c98",
   "metadata": {},
   "outputs": [
    {
     "name": "stdout",
     "output_type": "stream",
     "text": [
      "['Sumit', 'Barua']\n"
     ]
    }
   ],
   "source": [
    "l=['Sumit','Barua',2,3,4,5.6,8+9j]\n",
    "my_list=[]\n",
    "for i in l:\n",
    "    if type(i)==str:\n",
    "        my_list.append(i)\n",
    "\n",
    "print(my_list)"
   ]
  },
  {
   "cell_type": "code",
   "execution_count": 18,
   "id": "fb3f3272",
   "metadata": {},
   "outputs": [
    {
     "name": "stdout",
     "output_type": "stream",
     "text": [
      "['Sumit', 'Barua']\n"
     ]
    }
   ],
   "source": [
    "my_list=[i for i in l if type(i)==str]\n",
    "print(my_list)"
   ]
  },
  {
   "cell_type": "code",
   "execution_count": null,
   "id": "b0d3617b",
   "metadata": {},
   "outputs": [],
   "source": []
  }
 ],
 "metadata": {
  "kernelspec": {
   "display_name": "Python 3",
   "language": "python",
   "name": "python3"
  },
  "language_info": {
   "codemirror_mode": {
    "name": "ipython",
    "version": 3
   },
   "file_extension": ".py",
   "mimetype": "text/x-python",
   "name": "python",
   "nbconvert_exporter": "python",
   "pygments_lexer": "ipython3",
   "version": "3.8.8"
  }
 },
 "nbformat": 4,
 "nbformat_minor": 5
}
